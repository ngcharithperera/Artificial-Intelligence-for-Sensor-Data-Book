{
 "cells": [
  {
   "cell_type": "markdown",
   "metadata": {},
   "source": [
    "#  Air Quality: Design Phase\n",
    "\n",
    "Welcome to the second lab of this course. Last week, you used exploratory data analysis to gain insight into the Bogotá air quality data obtained from the [RMCAB](http://201.245.192.252:81/home/map). In this notebook, you will work on the next stage of your project: designing your solution. \n",
    "\n",
    "Here are the steps you will complete in this notebook: \n",
    "\n",
    "1. Import Python packages\n",
    "2. Load the data\n",
    "3. Add location (latitude and longitude of sensor stations) to the dataframe\n",
    "4. Visualize the extent and distribution of missing data\n",
    "5. Visualize simple methods for estimating missing values\n",
    "6. Run the nearest neighbor method to establish a baseline\n",
    "7. Prepare the data to train a neural network model\n",
    "8. Train and test a neural network model for estimating missing values\n",
    "9. Visualize the results from your baseline model compared to the neural network\n",
    "10. Estimate missing sensor measurements across all pollutants \n",
    "11. Visualize the results of filling in missing PM2.5 values\n",
    "12. Optional: write the resulting dataset to a new csv file"
   ]
  },
  {
   "cell_type": "markdown",
   "id": "73ac38e2",
   "metadata": {},
   "source": [
    "<br><br><br><br>"
   ]
  },
  {
   "cell_type": "markdown",
   "metadata": {},
   "source": [
    "<div class=\"ui blue inverted segment\"> \n",
    "</div>\n",
    "\n",
    "## Import Python packages\n",
    "\n",
    "\n",
    "Run the next cell to import the Python packages you'll be using in this lab exercise. If everything goes well you should see a message when the cell has finished running that says \"All packages imported successfully!\".\n",
    "\n",
    "Note the `import utils` line. This line imports the functions that were specifically written for this lab. If you want to look at what these functions are, go to `File -> Open...` and open the `utils.py` file to have a look.\n",
    "\n",
    "\n",
    "\n"
   ]
  },
  {
   "cell_type": "code",
   "execution_count": 1,
   "id": "6432a01c",
   "metadata": {},
   "outputs": [
    {
     "name": "stdout",
     "output_type": "stream",
     "text": [
      "All packages imported successfully!\n"
     ]
    }
   ],
   "source": [
    "# Import packages\n",
    "import pandas as pd # package for reading in and manipulating data\n",
    "from datetime import datetime # package for manipulating dates\n",
    "from sklearn.model_selection import train_test_split # package for splitting data\n",
    "\n",
    "import utils # utility functions defined for this lab\n",
    "\n",
    "print('All packages imported successfully!')"
   ]
  },
  {
   "cell_type": "markdown",
   "id": "390d00a9",
   "metadata": {},
   "source": [
    "<br><br><br><br>"
   ]
  },
  {
   "cell_type": "markdown",
   "metadata": {},
   "source": [
    "<div class=\"ui blue inverted segment\"> \n",
    "</div>\n",
    "\n",
    "## Load the data\n",
    "\n",
    "Run the next cell to load the Bogotá air quality data. This is the same step you took in the previous lab, where you are using the `pandas` package to read the csv file containing the data into a \"dataframe\" called `raw_data`, then modifying some of the column names and formats, and printing out the first five lines of the dataframe."
   ]
  },
  {
   "cell_type": "code",
   "execution_count": 2,
   "metadata": {},
   "outputs": [
    {
     "name": "stdout",
     "output_type": "stream",
     "text": [
      "The dataset contains 166440 entries\n"
     ]
    },
    {
     "data": {
      "text/html": [
       "<div>\n",
       "<style scoped>\n",
       "    .dataframe tbody tr th:only-of-type {\n",
       "        vertical-align: middle;\n",
       "    }\n",
       "\n",
       "    .dataframe tbody tr th {\n",
       "        vertical-align: top;\n",
       "    }\n",
       "\n",
       "    .dataframe thead th {\n",
       "        text-align: right;\n",
       "    }\n",
       "</style>\n",
       "<table border=\"1\" class=\"dataframe\">\n",
       "  <thead>\n",
       "    <tr style=\"text-align: right;\">\n",
       "      <th></th>\n",
       "      <th>PM10</th>\n",
       "      <th>PM2.5</th>\n",
       "      <th>NO</th>\n",
       "      <th>NO2</th>\n",
       "      <th>NOX</th>\n",
       "      <th>CO</th>\n",
       "      <th>OZONE</th>\n",
       "      <th>Station</th>\n",
       "      <th>DateTime</th>\n",
       "    </tr>\n",
       "  </thead>\n",
       "  <tbody>\n",
       "    <tr>\n",
       "      <th>0</th>\n",
       "      <td>56.6</td>\n",
       "      <td>32.7</td>\n",
       "      <td>7.504</td>\n",
       "      <td>15.962</td>\n",
       "      <td>23.493</td>\n",
       "      <td>0.44924</td>\n",
       "      <td>2.431</td>\n",
       "      <td>USM</td>\n",
       "      <td>2021-01-01 00:00:00</td>\n",
       "    </tr>\n",
       "    <tr>\n",
       "      <th>1</th>\n",
       "      <td>59.3</td>\n",
       "      <td>39.3</td>\n",
       "      <td>16.560</td>\n",
       "      <td>17.866</td>\n",
       "      <td>34.426</td>\n",
       "      <td>0.69832</td>\n",
       "      <td>1.121</td>\n",
       "      <td>USM</td>\n",
       "      <td>2021-01-01 01:00:00</td>\n",
       "    </tr>\n",
       "    <tr>\n",
       "      <th>2</th>\n",
       "      <td>96.4</td>\n",
       "      <td>70.8</td>\n",
       "      <td>22.989</td>\n",
       "      <td>17.802</td>\n",
       "      <td>40.791</td>\n",
       "      <td>0.88243</td>\n",
       "      <td>1.172</td>\n",
       "      <td>USM</td>\n",
       "      <td>2021-01-01 02:00:00</td>\n",
       "    </tr>\n",
       "    <tr>\n",
       "      <th>3</th>\n",
       "      <td>108.3</td>\n",
       "      <td>81.0</td>\n",
       "      <td>3.704</td>\n",
       "      <td>9.886</td>\n",
       "      <td>13.591</td>\n",
       "      <td>0.29549</td>\n",
       "      <td>6.565</td>\n",
       "      <td>USM</td>\n",
       "      <td>2021-01-01 03:00:00</td>\n",
       "    </tr>\n",
       "    <tr>\n",
       "      <th>4</th>\n",
       "      <td>87.7</td>\n",
       "      <td>56.1</td>\n",
       "      <td>2.098</td>\n",
       "      <td>9.272</td>\n",
       "      <td>11.371</td>\n",
       "      <td>0.16621</td>\n",
       "      <td>9.513</td>\n",
       "      <td>USM</td>\n",
       "      <td>2021-01-01 04:00:00</td>\n",
       "    </tr>\n",
       "  </tbody>\n",
       "</table>\n",
       "</div>"
      ],
      "text/plain": [
       "    PM10  PM2.5      NO     NO2     NOX       CO  OZONE Station  \\\n",
       "0   56.6   32.7   7.504  15.962  23.493  0.44924  2.431     USM   \n",
       "1   59.3   39.3  16.560  17.866  34.426  0.69832  1.121     USM   \n",
       "2   96.4   70.8  22.989  17.802  40.791  0.88243  1.172     USM   \n",
       "3  108.3   81.0   3.704   9.886  13.591  0.29549  6.565     USM   \n",
       "4   87.7   56.1   2.098   9.272  11.371  0.16621  9.513     USM   \n",
       "\n",
       "             DateTime  \n",
       "0 2021-01-01 00:00:00  \n",
       "1 2021-01-01 01:00:00  \n",
       "2 2021-01-01 02:00:00  \n",
       "3 2021-01-01 03:00:00  \n",
       "4 2021-01-01 04:00:00  "
      ]
     },
     "execution_count": 2,
     "metadata": {},
     "output_type": "execute_result"
    }
   ],
   "source": [
    "# Read in the data\n",
    "raw_data = pd.read_csv('data/RMCAB_air_quality_sensor_data.csv')\n",
    "\n",
    "# Modify the DateTime column format\n",
    "raw_data['DateTime'] = pd.to_datetime(utils.fix_dates(raw_data, 'DateTime'), dayfirst=True)\n",
    "\n",
    "# Rename columns from Spanish to English\n",
    "raw_data = raw_data.rename(columns={'OZONO': 'OZONE'})\n",
    "\n",
    "# print out the number of rows in the dataframe\n",
    "print(f\"The dataset contains {len(raw_data)} entries\")\n",
    "\n",
    "# Print out the first few lines in the dataframe\n",
    "raw_data.head(5)"
   ]
  },
  {
   "cell_type": "markdown",
   "id": "16e32da7",
   "metadata": {},
   "source": [
    "<br><br><br><br>"
   ]
  },
  {
   "cell_type": "markdown",
   "metadata": {},
   "source": [
    "<div class=\"ui blue inverted segment\"> \n",
    "</div>\n",
    "\n",
    "## Add location (latitude and longitude of sensor stations) to the dataframe\n",
    "\n",
    "Run the next cell to read in another dataset containing the location of each sensor station and then add those locations as new columns to your air pollution dataset. \n",
    "\n",
    "**Note:** the data used here to add the location of each station includes column names in Spanish such as `Sigla` (initials), `Latitud` (latitude), `Longitud` (longitude), and with the next cell you're also renaming those columns to their English equivalent (with \"station\" instead of \"intials\").    "
   ]
  },
  {
   "cell_type": "code",
   "execution_count": 3,
   "metadata": {},
   "outputs": [
    {
     "data": {
      "text/html": [
       "<div>\n",
       "<style scoped>\n",
       "    .dataframe tbody tr th:only-of-type {\n",
       "        vertical-align: middle;\n",
       "    }\n",
       "\n",
       "    .dataframe tbody tr th {\n",
       "        vertical-align: top;\n",
       "    }\n",
       "\n",
       "    .dataframe thead th {\n",
       "        text-align: right;\n",
       "    }\n",
       "</style>\n",
       "<table border=\"1\" class=\"dataframe\">\n",
       "  <thead>\n",
       "    <tr style=\"text-align: right;\">\n",
       "      <th></th>\n",
       "      <th>PM10</th>\n",
       "      <th>PM2.5</th>\n",
       "      <th>NO</th>\n",
       "      <th>NO2</th>\n",
       "      <th>NOX</th>\n",
       "      <th>CO</th>\n",
       "      <th>OZONE</th>\n",
       "      <th>Station</th>\n",
       "      <th>DateTime</th>\n",
       "      <th>Latitude</th>\n",
       "      <th>Longitude</th>\n",
       "    </tr>\n",
       "  </thead>\n",
       "  <tbody>\n",
       "    <tr>\n",
       "      <th>0</th>\n",
       "      <td>56.6</td>\n",
       "      <td>32.7</td>\n",
       "      <td>7.504</td>\n",
       "      <td>15.962</td>\n",
       "      <td>23.493</td>\n",
       "      <td>0.44924</td>\n",
       "      <td>2.431</td>\n",
       "      <td>USM</td>\n",
       "      <td>2021-01-01 00:00:00</td>\n",
       "      <td>4.532056</td>\n",
       "      <td>-74.117139</td>\n",
       "    </tr>\n",
       "    <tr>\n",
       "      <th>1</th>\n",
       "      <td>59.3</td>\n",
       "      <td>39.3</td>\n",
       "      <td>16.560</td>\n",
       "      <td>17.866</td>\n",
       "      <td>34.426</td>\n",
       "      <td>0.69832</td>\n",
       "      <td>1.121</td>\n",
       "      <td>USM</td>\n",
       "      <td>2021-01-01 01:00:00</td>\n",
       "      <td>4.532056</td>\n",
       "      <td>-74.117139</td>\n",
       "    </tr>\n",
       "    <tr>\n",
       "      <th>2</th>\n",
       "      <td>96.4</td>\n",
       "      <td>70.8</td>\n",
       "      <td>22.989</td>\n",
       "      <td>17.802</td>\n",
       "      <td>40.791</td>\n",
       "      <td>0.88243</td>\n",
       "      <td>1.172</td>\n",
       "      <td>USM</td>\n",
       "      <td>2021-01-01 02:00:00</td>\n",
       "      <td>4.532056</td>\n",
       "      <td>-74.117139</td>\n",
       "    </tr>\n",
       "    <tr>\n",
       "      <th>3</th>\n",
       "      <td>108.3</td>\n",
       "      <td>81.0</td>\n",
       "      <td>3.704</td>\n",
       "      <td>9.886</td>\n",
       "      <td>13.591</td>\n",
       "      <td>0.29549</td>\n",
       "      <td>6.565</td>\n",
       "      <td>USM</td>\n",
       "      <td>2021-01-01 03:00:00</td>\n",
       "      <td>4.532056</td>\n",
       "      <td>-74.117139</td>\n",
       "    </tr>\n",
       "    <tr>\n",
       "      <th>4</th>\n",
       "      <td>87.7</td>\n",
       "      <td>56.1</td>\n",
       "      <td>2.098</td>\n",
       "      <td>9.272</td>\n",
       "      <td>11.371</td>\n",
       "      <td>0.16621</td>\n",
       "      <td>9.513</td>\n",
       "      <td>USM</td>\n",
       "      <td>2021-01-01 04:00:00</td>\n",
       "      <td>4.532056</td>\n",
       "      <td>-74.117139</td>\n",
       "    </tr>\n",
       "  </tbody>\n",
       "</table>\n",
       "</div>"
      ],
      "text/plain": [
       "    PM10  PM2.5      NO     NO2     NOX       CO  OZONE Station  \\\n",
       "0   56.6   32.7   7.504  15.962  23.493  0.44924  2.431     USM   \n",
       "1   59.3   39.3  16.560  17.866  34.426  0.69832  1.121     USM   \n",
       "2   96.4   70.8  22.989  17.802  40.791  0.88243  1.172     USM   \n",
       "3  108.3   81.0   3.704   9.886  13.591  0.29549  6.565     USM   \n",
       "4   87.7   56.1   2.098   9.272  11.371  0.16621  9.513     USM   \n",
       "\n",
       "             DateTime  Latitude  Longitude  \n",
       "0 2021-01-01 00:00:00  4.532056 -74.117139  \n",
       "1 2021-01-01 01:00:00  4.532056 -74.117139  \n",
       "2 2021-01-01 02:00:00  4.532056 -74.117139  \n",
       "3 2021-01-01 03:00:00  4.532056 -74.117139  \n",
       "4 2021-01-01 04:00:00  4.532056 -74.117139  "
      ]
     },
     "execution_count": 3,
     "metadata": {},
     "output_type": "execute_result"
    }
   ],
   "source": [
    "# Read in csv file containing location data and format appropriately\n",
    "stations = pd.read_csv('data/stations_loc.csv')\n",
    "stations = stations[['Sigla', 'Latitud', 'Longitud']]\n",
    "\n",
    "# Rename the columns from Spanish to English\n",
    "stations = stations.rename(columns={'Sigla': 'Station', 'Latitud': 'Latitude', 'Longitud': 'Longitude'})\n",
    "\n",
    "# Parse the dates\n",
    "stations['Latitude'] = stations['Latitude'].apply(utils.parse_dms)\n",
    "stations['Longitude'] = stations['Longitude'].apply(utils.parse_dms)\n",
    "\n",
    "# Add location data as extra columns to air pollution dataset\n",
    "raw_data_enriched = pd.merge(raw_data, stations, on='Station', how='inner')\n",
    "raw_data_enriched.head(5)"
   ]
  },
  {
   "cell_type": "markdown",
   "id": "e9cd7eb3",
   "metadata": {},
   "source": [
    "<br><br><br><br>"
   ]
  },
  {
   "cell_type": "markdown",
   "metadata": {},
   "source": [
    "<div class=\"ui blue inverted segment\"> \n",
    "</div>\n",
    "\n",
    "## Visualize the extent and distribution of missing data\n",
    "\n",
    "### Count null values\n",
    "\n",
    "Run the next cell to perform the null value count you did in the last notebook as a reminder of how many missing values there are in each column of your dataset. "
   ]
  },
  {
   "cell_type": "code",
   "execution_count": 4,
   "metadata": {},
   "outputs": [
    {
     "data": {
      "text/plain": [
       "PM10         20014\n",
       "PM2.5        15312\n",
       "NO           27664\n",
       "NO2          27662\n",
       "NOX          27668\n",
       "CO           31238\n",
       "OZONE        32132\n",
       "Station          0\n",
       "DateTime         0\n",
       "Latitude         0\n",
       "Longitude        0\n",
       "dtype: int64"
      ]
     },
     "execution_count": 4,
     "metadata": {},
     "output_type": "execute_result"
    }
   ],
   "source": [
    "# Print out a count of missing data for each column in the dataset\n",
    "raw_data_enriched.isnull().sum()"
   ]
  },
  {
   "cell_type": "markdown",
   "metadata": {},
   "source": [
    "### Visualize missing data in a time series\n",
    "\n",
    "Run the cell below to generate the same plot you saw near the end of the last lab, namely, pollutant values over time as measured at a particular sensor station. You can use the pulldown menus to choose different stations and pollutants. You can also use the sliders to zoom in or out on a particular range of dates. You can edit the `start_date` and `end_date` values and run the code cell again to start with a different date range. \n",
    "\n",
    "Try looking at different pollutants as well as different dates and sensor stations to investigate the size of gaps in the data. Note that because you have missing data, for some combinations of parameters there may be no points on your plot!"
   ]
  },
  {
   "cell_type": "code",
   "execution_count": 5,
   "metadata": {},
   "outputs": [
    {
     "data": {
      "application/vnd.jupyter.widget-view+json": {
       "model_id": "773265aed57b4aa98cbea1c21782f94a",
       "version_major": 2,
       "version_minor": 0
      },
      "text/plain": [
       "interactive(children=(Dropdown(description='Station', options=('USM', 'BOL', 'SUB', 'TUN', 'LFR', 'PTE', 'MAM'…"
      ]
     },
     "metadata": {},
     "output_type": "display_data"
    }
   ],
   "source": [
    "# Plot a time series for a particular date range, pollutant, and sensor station\n",
    "start_date = datetime(2021, 1, 1)\n",
    "end_date = datetime(2021, 1, 31)\n",
    "utils.create_time_series_plot(raw_data, start_date, end_date)"
   ]
  },
  {
   "cell_type": "markdown",
   "metadata": {},
   "source": [
    "### Visualize the distribution of gaps in the data\n",
    "\n",
    "Run the next cell to plot a count of gap size in hours (horizontal axis) vs. number of missing data points due to gaps of that size (vertical axis). With this plot you can get a sense of how different sized gaps in the data are contributing to your missing data problem."
   ]
  },
  {
   "cell_type": "code",
   "execution_count": 6,
   "metadata": {},
   "outputs": [
    {
     "data": {
      "image/png": "[encoded data removed]",
      "text/plain": [
       "<Figure size 1000x600 with 1 Axes>"
      ]
     },
     "metadata": {},
     "output_type": "display_data"
    }
   ],
   "source": [
    "# Plot the distribution of gap sizes in the data\n",
    "utils.plot_distribution_of_gaps(raw_data, target='PM2.5')"
   ]
  },
  {
   "cell_type": "markdown",
   "id": "153579e4",
   "metadata": {},
   "source": [
    "<br><br><br><br>"
   ]
  },
  {
   "cell_type": "markdown",
   "metadata": {},
   "source": [
    "<div class=\"ui blue inverted segment\"> \n",
    "</div>\n",
    "\n",
    "## Visualize simple methods for estimating missing values\n",
    "\n",
    "Perhaps the most straightforward way to estimate missing value in your data is to simply take the last known value in the series and use it to replace the missing value. Another option would be to use a current measurement from the nearest station (nearest neighbor method).  \n",
    "\n",
    "Run the next cell to generate a visualization of the result of filling in missing values with either the last known value or the nearest neighbor method. "
   ]
  },
  {
   "cell_type": "code",
   "execution_count": 7,
   "metadata": {},
   "outputs": [
    {
     "data": {
      "application/vnd.jupyter.widget-view+json": {
       "model_id": "a636dc79a8c84b0bb455abe57b0dc5dd",
       "version_major": 2,
       "version_minor": 0
      },
      "text/plain": [
       "interactive(children=(Dropdown(description='Station', options=('USM', 'BOL', 'SUB', 'TUN', 'LFR', 'PTE', 'MAM'…"
      ]
     },
     "metadata": {},
     "output_type": "display_data"
    }
   ],
   "source": [
    "# Specify the date to plot\n",
    "day = datetime(2021, 5, 6)\n",
    "\n",
    "# Create a plot to display the linear interpolation for a range of hours\n",
    "utils.visualize_missing_values_estimation(raw_data_enriched, day);"
   ]
  },
  {
   "cell_type": "markdown",
   "id": "b009dc66",
   "metadata": {},
   "source": [
    "<br><br><br><br>"
   ]
  },
  {
   "cell_type": "markdown",
   "metadata": {},
   "source": [
    "<div class=\"ui blue inverted segment\"> \n",
    "</div>\n",
    "\n",
    "## Run the nearest neighbor method to establish a baseline\n",
    "\n",
    "With the next cell, you'll run your nearest neighbor model on simulated gaps in the PM2.5 data. The distribution of gaps you'll be testing your model on here is simulated to be similar to the distribution in the real data. In principle, the size of the gaps shouldn't matter for this method but you'll simulate the real distribution for consistency with the actual data.\n",
    "\n",
    "You'll compute the accuracy of your baseline model by computing the [Mean Absolute Error (MAE)](https://en.wikipedia.org/wiki/Mean_absolute_error). The MAE is just the average difference between your model output and the ground truth, in this case for PM2.5.\n",
    "\n",
    "$$MAE = \\frac{1}{n} \\sum_{i=1}^{n}{|\\rm{actual}_i - \\rm{model}_i|}$$\n",
    "    \n",
    "Where \"n\" is the number of samples in the test dataset\n",
    "\n",
    "Keep in mind that MAE is just one potential error metric you could choose to evaluate your model and, in practice, you might choose a different one (like mean squared error for example) depending on how your want to measure performance and what you aim to use your model for. Here we're using MAE because it is a simple and intuitive measurement model performance, where the error estimate is in the units of the thing you're trying to estimate, in this case, PM2.5 levels in micrograms / $\\rm{m}^3$. \n",
    "\n",
    "Run the next cell to test the nearest neighbor method and compute MAE."
   ]
  },
  {
   "cell_type": "code",
   "execution_count": 8,
   "metadata": {},
   "outputs": [
    {
     "name": "stdout",
     "output_type": "stream",
     "text": [
      "{'MAE': 8.035857704059362}\n"
     ]
    }
   ],
   "source": [
    "# Create a nearest neighbor model and run it on your test data\n",
    "regression_scores = {}\n",
    "regression_scores['baseline_model'] = utils.calculate_mae_for_nearest_station(raw_data_enriched, target='PM2.5')\n",
    "print(regression_scores['baseline_model'])"
   ]
  },
  {
   "cell_type": "markdown",
   "id": "63656633",
   "metadata": {},
   "source": [
    "<br><br><br><br>"
   ]
  },
  {
   "cell_type": "markdown",
   "metadata": {},
   "source": [
    "<div class=\"ui blue inverted segment\"> \n",
    "</div>\n",
    "\n",
    "## Prepare the data to train a neural network model\n",
    "\n",
    "Now that you have established a baseline, you'll prepare your dataset to train and test a neural network model for estimating missing PM2.5 values. \n",
    "\n",
    "### Remove missing values and add columns for later use with a neural network model\n",
    "To do this, you'll first remove all rows with missing values from the original dataset and then simulate gaps of different sizes in order to test your model. Before removing rows with missing values, you'll also add some extra columns to your dataset to prepare for training a neural network model. These new columns include day of the week (`day_week`) and hour of day (`hour`). The line of code defining the variable `one_hot` is converting station ID to a numerical representation to indicate which station each measurement is from. "
   ]
  },
  {
   "cell_type": "code",
   "execution_count": 9,
   "metadata": {
    "scrolled": true
   },
   "outputs": [
    {
     "name": "stdout",
     "output_type": "stream",
     "text": [
      "missing values removed and data prepared successfully!\n"
     ]
    }
   ],
   "source": [
    "# Define the variable you want to predict\n",
    "target = 'PM2.5'\n",
    "\n",
    "# Create new columns for day of week and hour of day\n",
    "raw_data_for_imputing = raw_data_enriched.copy()\n",
    "raw_data_for_imputing['day_week'] = pd.DatetimeIndex(raw_data_for_imputing['DateTime']).weekday\n",
    "raw_data_for_imputing['hour'] = pd.DatetimeIndex(raw_data_for_imputing['DateTime']).hour\n",
    "\n",
    "# Create a numerical representation of station ID and add as extra columns to the dataframe\n",
    "one_hot = pd.get_dummies(raw_data_for_imputing.Station, prefix='Station')\n",
    "raw_data_for_imputing = raw_data_for_imputing.join(one_hot)\n",
    "\n",
    "# Make a copy of the dataframe before dropping rows with missing values\n",
    "data_no_missing = raw_data_for_imputing.copy()  \n",
    "# Drop all rows containing missing values\n",
    "data_no_missing.dropna(inplace=True)\n",
    "# Print out the number of missing values in the PM2.5 column as a check (should print 0)\n",
    "null_remaining = data_no_missing[target].isnull().sum()\n",
    "if null_remaining == 0: \n",
    "    print('missing values removed and data prepared successfully!')"
   ]
  },
  {
   "cell_type": "markdown",
   "metadata": {},
   "source": [
    "### Split data into training and testing sets\n",
    "\n",
    "In order to compare your baseline model to a neural network model, it's important to run your test on the same subset of the data. At this step, you'll separate out a testing dataset and use that to your baseline model and compare to your neural network model. \n",
    "\n",
    "<img src=\"../../../../_images/split_data.png\" alt=\"split_data\" width=\"400\"/>\n",
    "\n",
    "<center><b>Figure 1:</b> Splitting data into training and testing sets </center>\n",
    "\n",
    "Run the next cell to separate out 20% of your data for testing."
   ]
  },
  {
   "cell_type": "code",
   "execution_count": 10,
   "metadata": {},
   "outputs": [
    {
     "name": "stdout",
     "output_type": "stream",
     "text": [
      "Train dataset size: (73309, 32)\n",
      "Test dataset size: (18328, 32)\n"
     ]
    }
   ],
   "source": [
    "train_data, test_data = train_test_split(data_no_missing, test_size=0.20, random_state=57)\n",
    "\n",
    "print(f'Train dataset size: {train_data.shape}')\n",
    "print(f'Test dataset size: {test_data.shape}')"
   ]
  },
  {
   "cell_type": "markdown",
   "metadata": {},
   "source": [
    "\n",
    "\n",
    "    \n",
    "</details>\n",
    "\n"
   ]
  },
  {
   "cell_type": "markdown",
   "id": "4c79cdc0",
   "metadata": {},
   "source": [
    "<br><br><br><br>"
   ]
  },
  {
   "cell_type": "markdown",
   "metadata": {},
   "source": [
    "<div class=\"ui blue inverted segment\"> \n",
    "</div>\n",
    "\n",
    "## Train and test a neural network model for estimating missing data.\n",
    "\n",
    "<img src=\"../../../../_images/DNN.png\" alt=\"neural_network_model\" width=\"800\"/>\n"
   ]
  },
  {
   "cell_type": "markdown",
   "metadata": {},
   "source": [
    "Run the next cell to train and test a neural network model for estimating missing PM2.5 values. In this case, you need to train the neural network to learn how PM2.5 values are related to values for all the other pollutants as well as time of day, day of week, and station location. Note that the neural network that you will train is much larger than the one shown on the picture, as it has 64 and 32 units in the two hidden layers."
   ]
  },
  {
   "cell_type": "code",
   "execution_count": 11,
   "metadata": {
    "scrolled": true
   },
   "outputs": [],
   "source": [
    "%%capture\n",
    "# Define the features you will base your predictions on \n",
    "pollutants_list = ['PM10','PM2.5','NO','NO2','NOX','CO','OZONE']\n",
    "pollutants_except_target = [i for i in pollutants_list if i != target]\n",
    "feature_names = ['day_week', 'hour'] + list(one_hot.columns) + pollutants_except_target\n",
    "\n",
    "# Define the neural network model architecture\n",
    "model = utils.build_keras_model(input_size=len(feature_names))\n",
    "\n",
    "# Train and test the model\n",
    "model, scaler, mae = utils.train_and_test_model(feature_names, target, train_data, test_data, model)\n",
    "regression_scores['neural_network_model'] = mae"
   ]
  },
  {
   "cell_type": "markdown",
   "metadata": {},
   "source": [
    "Compare the **MAE** obtained using the 2 methods. This value has been obtained using the same test set so its comparable."
   ]
  },
  {
   "cell_type": "code",
   "execution_count": 12,
   "metadata": {},
   "outputs": [
    {
     "name": "stdout",
     "output_type": "stream",
     "text": [
      "baseline_model  :  {'MAE': 8.035857704059362}\n",
      "neural_network_model  :  {'MAE': 4.090948717709141}\n"
     ]
    }
   ],
   "source": [
    "# Print out the MAE result\n",
    "for model_name, model_score in regression_scores.items():\n",
    "    print(model_name, ' : ', model_score)"
   ]
  },
  {
   "cell_type": "markdown",
   "id": "0a5ea1df",
   "metadata": {},
   "source": [
    "<br><br><br><br>"
   ]
  },
  {
   "cell_type": "markdown",
   "metadata": {},
   "source": [
    "<div class=\"ui blue inverted segment\"> \n",
    "</div>\n",
    "\n",
    "## Visualize the results from your baseline model compared to the neural network.\n",
    "\n",
    "Run the next cell to visualize the results of the baseline model and the neural network model. Use the pulldown menus to choose between different station locations and different \"window\" or gap sizes in hours. Use the slider to choose the start index of the window you want to investigate. You can also change the `start_date` and `end_date` values to other dates in 2021.  "
   ]
  },
  {
   "cell_type": "code",
   "execution_count": 13,
   "metadata": {
    "scrolled": false
   },
   "outputs": [
    {
     "data": {
      "application/vnd.jupyter.widget-view+json": {
       "model_id": "a955462f20c94ed78fb5441d82154c57",
       "version_major": 2,
       "version_minor": 0
      },
      "text/plain": [
       "interactive(children=(Dropdown(description='Station', options=('USM', 'BOL', 'SUB', 'TUN', 'LFR', 'PTE', 'MAM'…"
      ]
     },
     "metadata": {},
     "output_type": "display_data"
    }
   ],
   "source": [
    "start_date = datetime(2021, 2, 1)\n",
    "end_date = datetime(2021, 2, 3)\n",
    "\n",
    "utils.create_plot_with_preditions(data_no_missing, model, scaler, feature_names, target,  start_date, end_date)"
   ]
  },
  {
   "cell_type": "markdown",
   "id": "11804974",
   "metadata": {},
   "source": [
    "<br><br><br><br>"
   ]
  },
  {
   "cell_type": "markdown",
   "metadata": {},
   "source": [
    "<div class=\"ui blue inverted segment\"> \n",
    "</div>\n",
    "\n",
    "## Estimate missing sensor measurements across all pollutants. \n",
    "\n",
    "With the first line of code below you will estimate missing values for all non-PM2.5 pollutants using the nearest neighbors method. With the second line, you'll use your neural network next to esimate missing values for PM2.5. The last line simply prints out the number of missing values in each column again, which should be zero if everything went well. "
   ]
  },
  {
   "cell_type": "code",
   "execution_count": 14,
   "id": "92513a27",
   "metadata": {},
   "outputs": [],
   "source": [
    "%%capture\n",
    "# Estimate non-PM2.5 missing values with the nearest neighbor method\n",
    "imputed_with_baseline_model = utils.impute_nontarget_missing_values_interpolate(raw_data_for_imputing, feature_names, target)\n",
    "# Estimate missing PM2.5 values with \n",
    "data_with_imputed = utils.impute_target_missing_values_neural_network(raw_data_for_imputing, model, scaler, imputed_with_baseline_model, target)"
   ]
  },
  {
   "cell_type": "code",
   "execution_count": 15,
   "metadata": {},
   "outputs": [
    {
     "data": {
      "text/plain": [
       "PM10     0\n",
       "PM2.5    0\n",
       "NO       0\n",
       "NO2      0\n",
       "NOX      0\n",
       "CO       0\n",
       "OZONE    0\n",
       "dtype: int64"
      ]
     },
     "execution_count": 15,
     "metadata": {},
     "output_type": "execute_result"
    }
   ],
   "source": [
    "# Print out a count of missing data for each column in the dataset with imputed values\n",
    "data_with_imputed[pollutants_list].isnull().sum()"
   ]
  },
  {
   "cell_type": "code",
   "execution_count": 16,
   "metadata": {},
   "outputs": [
    {
     "data": {
      "text/html": [
       "<div>\n",
       "<style scoped>\n",
       "    .dataframe tbody tr th:only-of-type {\n",
       "        vertical-align: middle;\n",
       "    }\n",
       "\n",
       "    .dataframe tbody tr th {\n",
       "        vertical-align: top;\n",
       "    }\n",
       "\n",
       "    .dataframe thead th {\n",
       "        text-align: right;\n",
       "    }\n",
       "</style>\n",
       "<table border=\"1\" class=\"dataframe\">\n",
       "  <thead>\n",
       "    <tr style=\"text-align: right;\">\n",
       "      <th></th>\n",
       "      <th>DateTime</th>\n",
       "      <th>Station</th>\n",
       "      <th>Latitude</th>\n",
       "      <th>Longitude</th>\n",
       "      <th>PM2.5</th>\n",
       "      <th>PM10</th>\n",
       "      <th>NO</th>\n",
       "      <th>NO2</th>\n",
       "      <th>NOX</th>\n",
       "      <th>CO</th>\n",
       "      <th>OZONE</th>\n",
       "      <th>PM2.5_imputed_flag</th>\n",
       "      <th>PM10_imputed_flag</th>\n",
       "      <th>NO_imputed_flag</th>\n",
       "      <th>NO2_imputed_flag</th>\n",
       "      <th>NOX_imputed_flag</th>\n",
       "      <th>CO_imputed_flag</th>\n",
       "      <th>OZONE_imputed_flag</th>\n",
       "    </tr>\n",
       "  </thead>\n",
       "  <tbody>\n",
       "    <tr>\n",
       "      <th>162510</th>\n",
       "      <td>2021-07-21 06:00:00</td>\n",
       "      <td>KEN</td>\n",
       "      <td>4.625050</td>\n",
       "      <td>-74.161333</td>\n",
       "      <td>9.000000</td>\n",
       "      <td>17.575497</td>\n",
       "      <td>61.2140</td>\n",
       "      <td>23.080000</td>\n",
       "      <td>84.294000</td>\n",
       "      <td>1.466950</td>\n",
       "      <td>4.156000</td>\n",
       "      <td>None</td>\n",
       "      <td>interpolated</td>\n",
       "      <td>None</td>\n",
       "      <td>None</td>\n",
       "      <td>None</td>\n",
       "      <td>None</td>\n",
       "      <td>None</td>\n",
       "    </tr>\n",
       "    <tr>\n",
       "      <th>163538</th>\n",
       "      <td>2021-09-02 02:00:00</td>\n",
       "      <td>KEN</td>\n",
       "      <td>4.625050</td>\n",
       "      <td>-74.161333</td>\n",
       "      <td>15.000000</td>\n",
       "      <td>50.200000</td>\n",
       "      <td>28.0930</td>\n",
       "      <td>18.415000</td>\n",
       "      <td>46.507000</td>\n",
       "      <td>0.810150</td>\n",
       "      <td>3.993000</td>\n",
       "      <td>None</td>\n",
       "      <td>None</td>\n",
       "      <td>None</td>\n",
       "      <td>None</td>\n",
       "      <td>None</td>\n",
       "      <td>None</td>\n",
       "      <td>None</td>\n",
       "    </tr>\n",
       "    <tr>\n",
       "      <th>84816</th>\n",
       "      <td>2021-09-07 00:00:00</td>\n",
       "      <td>SCR</td>\n",
       "      <td>4.572553</td>\n",
       "      <td>-74.083814</td>\n",
       "      <td>7.000000</td>\n",
       "      <td>7.000000</td>\n",
       "      <td>0.4930</td>\n",
       "      <td>5.838000</td>\n",
       "      <td>6.331000</td>\n",
       "      <td>0.224500</td>\n",
       "      <td>16.288000</td>\n",
       "      <td>None</td>\n",
       "      <td>None</td>\n",
       "      <td>None</td>\n",
       "      <td>None</td>\n",
       "      <td>None</td>\n",
       "      <td>None</td>\n",
       "      <td>None</td>\n",
       "    </tr>\n",
       "    <tr>\n",
       "      <th>136415</th>\n",
       "      <td>2021-07-28 23:00:00</td>\n",
       "      <td>COL</td>\n",
       "      <td>4.737194</td>\n",
       "      <td>-74.069472</td>\n",
       "      <td>2.200000</td>\n",
       "      <td>9.100000</td>\n",
       "      <td>1.6790</td>\n",
       "      <td>23.998000</td>\n",
       "      <td>25.677000</td>\n",
       "      <td>0.319130</td>\n",
       "      <td>7.656000</td>\n",
       "      <td>None</td>\n",
       "      <td>None</td>\n",
       "      <td>None</td>\n",
       "      <td>None</td>\n",
       "      <td>None</td>\n",
       "      <td>None</td>\n",
       "      <td>None</td>\n",
       "    </tr>\n",
       "    <tr>\n",
       "      <th>133393</th>\n",
       "      <td>2021-03-25 01:00:00</td>\n",
       "      <td>COL</td>\n",
       "      <td>4.737194</td>\n",
       "      <td>-74.069472</td>\n",
       "      <td>19.261356</td>\n",
       "      <td>35.404444</td>\n",
       "      <td>19.6122</td>\n",
       "      <td>11.911733</td>\n",
       "      <td>31.523933</td>\n",
       "      <td>1.083603</td>\n",
       "      <td>2.607836</td>\n",
       "      <td>neural network</td>\n",
       "      <td>interpolated</td>\n",
       "      <td>interpolated</td>\n",
       "      <td>interpolated</td>\n",
       "      <td>interpolated</td>\n",
       "      <td>interpolated</td>\n",
       "      <td>interpolated</td>\n",
       "    </tr>\n",
       "  </tbody>\n",
       "</table>\n",
       "</div>"
      ],
      "text/plain": [
       "                  DateTime Station  Latitude  Longitude      PM2.5       PM10  \\\n",
       "162510 2021-07-21 06:00:00     KEN  4.625050 -74.161333   9.000000  17.575497   \n",
       "163538 2021-09-02 02:00:00     KEN  4.625050 -74.161333  15.000000  50.200000   \n",
       "84816  2021-09-07 00:00:00     SCR  4.572553 -74.083814   7.000000   7.000000   \n",
       "136415 2021-07-28 23:00:00     COL  4.737194 -74.069472   2.200000   9.100000   \n",
       "133393 2021-03-25 01:00:00     COL  4.737194 -74.069472  19.261356  35.404444   \n",
       "\n",
       "             NO        NO2        NOX        CO      OZONE PM2.5_imputed_flag  \\\n",
       "162510  61.2140  23.080000  84.294000  1.466950   4.156000               None   \n",
       "163538  28.0930  18.415000  46.507000  0.810150   3.993000               None   \n",
       "84816    0.4930   5.838000   6.331000  0.224500  16.288000               None   \n",
       "136415   1.6790  23.998000  25.677000  0.319130   7.656000               None   \n",
       "133393  19.6122  11.911733  31.523933  1.083603   2.607836     neural network   \n",
       "\n",
       "       PM10_imputed_flag NO_imputed_flag NO2_imputed_flag NOX_imputed_flag  \\\n",
       "162510      interpolated            None             None             None   \n",
       "163538              None            None             None             None   \n",
       "84816               None            None             None             None   \n",
       "136415              None            None             None             None   \n",
       "133393      interpolated    interpolated     interpolated     interpolated   \n",
       "\n",
       "       CO_imputed_flag OZONE_imputed_flag  \n",
       "162510            None               None  \n",
       "163538            None               None  \n",
       "84816             None               None  \n",
       "136415            None               None  \n",
       "133393    interpolated       interpolated  "
      ]
     },
     "execution_count": 16,
     "metadata": {},
     "output_type": "execute_result"
    }
   ],
   "source": [
    "# Print out a sample of the dataframe\n",
    "data_with_imputed.sample(5)"
   ]
  },
  {
   "cell_type": "markdown",
   "metadata": {},
   "source": [
    "You can see that the flag columns include different values: `None` where there is original data, `'neural network'` where the values were imputed with the neural network and `'interpolated'` where the values were interpolated.\n",
    "\n"
   ]
  },
  {
   "cell_type": "markdown",
   "id": "2c3f6e8c",
   "metadata": {},
   "source": [
    "<br><br><br><br>"
   ]
  },
  {
   "cell_type": "markdown",
   "metadata": {},
   "source": [
    "<div class=\"ui blue inverted segment\"> \n",
    "</div>\n",
    "\n",
    "## Visualize the results of filling in missing PM2.5 values\n",
    "\n",
    "You can use the flag columns you recorded above to distinguish between original and estimated data, and you can visualize this by running the cell below."
   ]
  },
  {
   "cell_type": "code",
   "execution_count": 17,
   "metadata": {},
   "outputs": [
    {
     "data": {
      "application/vnd.jupyter.widget-view+json": {
       "model_id": "8fe9079c605f44ec88b4b1f10e1c72b3",
       "version_major": 2,
       "version_minor": 0
      },
      "text/plain": [
       "interactive(children=(Dropdown(description='Station', options=('USM', 'BOL', 'SUB', 'TUN', 'LFR', 'PTE', 'MAM'…"
      ]
     },
     "metadata": {},
     "output_type": "display_data"
    }
   ],
   "source": [
    "# Define a start and end date and visualize missing values that have been imputed\n",
    "start_date = datetime(2021, 3, 1)\n",
    "end_date = datetime(2021, 4, 30)\n",
    "utils.create_time_series_plot(data_with_imputed, start_date, end_date)"
   ]
  },
  {
   "cell_type": "markdown",
   "id": "924e494b",
   "metadata": {},
   "source": [
    "<br><br><br><br>"
   ]
  },
  {
   "cell_type": "markdown",
   "metadata": {},
   "source": [
    "<div class=\"ui blue inverted segment\"> \n",
    "</div>\n",
    "\n",
    "## Optional: write the resulting dataset to a new csv file\n",
    "\n",
    "Finally, you can save the data to a new csv file for use in the next stage of the project. In this case, the data will be provided to you in the next lab so you don't need to save it here, but we've included the line of code below to show you how you can write the data to file. If you uncomment the code below (remove the #) you can run the cell and then click on the Jupyter icon above to see the new csv file in your folder with the rest of the lab contents. "
   ]
  },
  {
   "cell_type": "code",
   "execution_count": 18,
   "metadata": {},
   "outputs": [],
   "source": [
    "# data_with_imputed.to_csv('full_data_with_imputed_values.csv')"
   ]
  }
 ],
 "metadata": {
  "kernelspec": {
   "display_name": "Python 3",
   "language": "python",
   "name": "python3"
  },
  "language_info": {
   "codemirror_mode": {
    "name": "ipython",
    "version": 3
   },
   "file_extension": ".py",
   "mimetype": "text/x-python",
   "name": "python",
   "nbconvert_exporter": "python",
   "pygments_lexer": "ipython3",
   "version": "3.12.2"
  }
 },
 "nbformat": 4,
 "nbformat_minor": 5
}
